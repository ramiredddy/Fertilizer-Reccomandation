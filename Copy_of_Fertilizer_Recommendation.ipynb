{
  "nbformat": 4,
  "nbformat_minor": 0,
  "metadata": {
    "colab": {
      "provenance": [],
      "include_colab_link": true
    },
    "kernelspec": {
      "name": "python3",
      "display_name": "Python 3"
    },
    "language_info": {
      "name": "python"
    }
  },
  "cells": [
    {
      "cell_type": "markdown",
      "metadata": {
        "id": "view-in-github",
        "colab_type": "text"
      },
      "source": [
        "<a href=\"https://colab.research.google.com/github/ramiredddy/Fertilizer-Reccomandation/blob/main/Copy_of_Fertilizer_Recommendation.ipynb\" target=\"_parent\"><img src=\"https://colab.research.google.com/assets/colab-badge.svg\" alt=\"Open In Colab\"/></a>"
      ]
    },
    {
      "cell_type": "markdown",
      "source": [
        "# **Sustainable Fertilizer Usage Optimizer for Higher Yield**\n",
        "\n",
        "This solution uses data analysis to recommend the most effective fertilizers and quantities based on soil health, crop type, and weather conditions. It promotes sustainable farming practices and improves agricultural productivity and farmer income.\n",
        "\n",
        "\n"
      ],
      "metadata": {
        "id": "J2lSBrYicf0m"
      }
    },
    {
      "cell_type": "markdown",
      "source": [
        "## Data Collection"
      ],
      "metadata": {
        "id": "3HZLXcUUn-0v"
      }
    },
    {
      "cell_type": "code",
      "source": [
        "import numpy as np\n",
        "import pandas as pd"
      ],
      "metadata": {
        "id": "dHLKoTcUe3Cm"
      },
      "execution_count": 1,
      "outputs": []
    },
    {
      "cell_type": "code",
      "source": [
        "df = pd.read_csv(\"crop.csv\")\n",
        "df.head()"
      ],
      "metadata": {
        "colab": {
          "base_uri": "https://localhost:8080/",
          "height": 206
        },
        "id": "eY68SkCQfGw2",
        "outputId": "3f53501d-0cb5-4c3e-ff00-347f91a10b35"
      },
      "execution_count": 2,
      "outputs": [
        {
          "output_type": "execute_result",
          "data": {
            "text/plain": [
              "     N   P   K  temperature   humidity        ph    rainfall   Crop Name  \\\n",
              "0   71  11  24    20.756834  47.368220  6.730602  364.587903       mango   \n",
              "1  112  35  51    21.568443  74.711341  6.250531  148.512204      orange   \n",
              "2   34  22  65    33.215061  84.630039  6.288119  154.318706   muskmelon   \n",
              "3   91  56  16    27.912439  71.686600  6.579295  271.515730       apple   \n",
              "4   80  40  49    32.372557  51.114553  5.674448  203.097574  watermelon   \n",
              "\n",
              "        Yield  \n",
              "0   86.042064  \n",
              "1  163.059584  \n",
              "2  129.686617  \n",
              "3  136.003516  \n",
              "4  139.663304  "
            ],
            "text/html": [
              "\n",
              "  <div id=\"df-6f9419c6-8d2c-4899-91cf-e2268b86b810\" class=\"colab-df-container\">\n",
              "    <div>\n",
              "<style scoped>\n",
              "    .dataframe tbody tr th:only-of-type {\n",
              "        vertical-align: middle;\n",
              "    }\n",
              "\n",
              "    .dataframe tbody tr th {\n",
              "        vertical-align: top;\n",
              "    }\n",
              "\n",
              "    .dataframe thead th {\n",
              "        text-align: right;\n",
              "    }\n",
              "</style>\n",
              "<table border=\"1\" class=\"dataframe\">\n",
              "  <thead>\n",
              "    <tr style=\"text-align: right;\">\n",
              "      <th></th>\n",
              "      <th>N</th>\n",
              "      <th>P</th>\n",
              "      <th>K</th>\n",
              "      <th>temperature</th>\n",
              "      <th>humidity</th>\n",
              "      <th>ph</th>\n",
              "      <th>rainfall</th>\n",
              "      <th>Crop Name</th>\n",
              "      <th>Yield</th>\n",
              "    </tr>\n",
              "  </thead>\n",
              "  <tbody>\n",
              "    <tr>\n",
              "      <th>0</th>\n",
              "      <td>71</td>\n",
              "      <td>11</td>\n",
              "      <td>24</td>\n",
              "      <td>20.756834</td>\n",
              "      <td>47.368220</td>\n",
              "      <td>6.730602</td>\n",
              "      <td>364.587903</td>\n",
              "      <td>mango</td>\n",
              "      <td>86.042064</td>\n",
              "    </tr>\n",
              "    <tr>\n",
              "      <th>1</th>\n",
              "      <td>112</td>\n",
              "      <td>35</td>\n",
              "      <td>51</td>\n",
              "      <td>21.568443</td>\n",
              "      <td>74.711341</td>\n",
              "      <td>6.250531</td>\n",
              "      <td>148.512204</td>\n",
              "      <td>orange</td>\n",
              "      <td>163.059584</td>\n",
              "    </tr>\n",
              "    <tr>\n",
              "      <th>2</th>\n",
              "      <td>34</td>\n",
              "      <td>22</td>\n",
              "      <td>65</td>\n",
              "      <td>33.215061</td>\n",
              "      <td>84.630039</td>\n",
              "      <td>6.288119</td>\n",
              "      <td>154.318706</td>\n",
              "      <td>muskmelon</td>\n",
              "      <td>129.686617</td>\n",
              "    </tr>\n",
              "    <tr>\n",
              "      <th>3</th>\n",
              "      <td>91</td>\n",
              "      <td>56</td>\n",
              "      <td>16</td>\n",
              "      <td>27.912439</td>\n",
              "      <td>71.686600</td>\n",
              "      <td>6.579295</td>\n",
              "      <td>271.515730</td>\n",
              "      <td>apple</td>\n",
              "      <td>136.003516</td>\n",
              "    </tr>\n",
              "    <tr>\n",
              "      <th>4</th>\n",
              "      <td>80</td>\n",
              "      <td>40</td>\n",
              "      <td>49</td>\n",
              "      <td>32.372557</td>\n",
              "      <td>51.114553</td>\n",
              "      <td>5.674448</td>\n",
              "      <td>203.097574</td>\n",
              "      <td>watermelon</td>\n",
              "      <td>139.663304</td>\n",
              "    </tr>\n",
              "  </tbody>\n",
              "</table>\n",
              "</div>\n",
              "    <div class=\"colab-df-buttons\">\n",
              "\n",
              "  <div class=\"colab-df-container\">\n",
              "    <button class=\"colab-df-convert\" onclick=\"convertToInteractive('df-6f9419c6-8d2c-4899-91cf-e2268b86b810')\"\n",
              "            title=\"Convert this dataframe to an interactive table.\"\n",
              "            style=\"display:none;\">\n",
              "\n",
              "  <svg xmlns=\"http://www.w3.org/2000/svg\" height=\"24px\" viewBox=\"0 -960 960 960\">\n",
              "    <path d=\"M120-120v-720h720v720H120Zm60-500h600v-160H180v160Zm220 220h160v-160H400v160Zm0 220h160v-160H400v160ZM180-400h160v-160H180v160Zm440 0h160v-160H620v160ZM180-180h160v-160H180v160Zm440 0h160v-160H620v160Z\"/>\n",
              "  </svg>\n",
              "    </button>\n",
              "\n",
              "  <style>\n",
              "    .colab-df-container {\n",
              "      display:flex;\n",
              "      gap: 12px;\n",
              "    }\n",
              "\n",
              "    .colab-df-convert {\n",
              "      background-color: #E8F0FE;\n",
              "      border: none;\n",
              "      border-radius: 50%;\n",
              "      cursor: pointer;\n",
              "      display: none;\n",
              "      fill: #1967D2;\n",
              "      height: 32px;\n",
              "      padding: 0 0 0 0;\n",
              "      width: 32px;\n",
              "    }\n",
              "\n",
              "    .colab-df-convert:hover {\n",
              "      background-color: #E2EBFA;\n",
              "      box-shadow: 0px 1px 2px rgba(60, 64, 67, 0.3), 0px 1px 3px 1px rgba(60, 64, 67, 0.15);\n",
              "      fill: #174EA6;\n",
              "    }\n",
              "\n",
              "    .colab-df-buttons div {\n",
              "      margin-bottom: 4px;\n",
              "    }\n",
              "\n",
              "    [theme=dark] .colab-df-convert {\n",
              "      background-color: #3B4455;\n",
              "      fill: #D2E3FC;\n",
              "    }\n",
              "\n",
              "    [theme=dark] .colab-df-convert:hover {\n",
              "      background-color: #434B5C;\n",
              "      box-shadow: 0px 1px 3px 1px rgba(0, 0, 0, 0.15);\n",
              "      filter: drop-shadow(0px 1px 2px rgba(0, 0, 0, 0.3));\n",
              "      fill: #FFFFFF;\n",
              "    }\n",
              "  </style>\n",
              "\n",
              "    <script>\n",
              "      const buttonEl =\n",
              "        document.querySelector('#df-6f9419c6-8d2c-4899-91cf-e2268b86b810 button.colab-df-convert');\n",
              "      buttonEl.style.display =\n",
              "        google.colab.kernel.accessAllowed ? 'block' : 'none';\n",
              "\n",
              "      async function convertToInteractive(key) {\n",
              "        const element = document.querySelector('#df-6f9419c6-8d2c-4899-91cf-e2268b86b810');\n",
              "        const dataTable =\n",
              "          await google.colab.kernel.invokeFunction('convertToInteractive',\n",
              "                                                    [key], {});\n",
              "        if (!dataTable) return;\n",
              "\n",
              "        const docLinkHtml = 'Like what you see? Visit the ' +\n",
              "          '<a target=\"_blank\" href=https://colab.research.google.com/notebooks/data_table.ipynb>data table notebook</a>'\n",
              "          + ' to learn more about interactive tables.';\n",
              "        element.innerHTML = '';\n",
              "        dataTable['output_type'] = 'display_data';\n",
              "        await google.colab.output.renderOutput(dataTable, element);\n",
              "        const docLink = document.createElement('div');\n",
              "        docLink.innerHTML = docLinkHtml;\n",
              "        element.appendChild(docLink);\n",
              "      }\n",
              "    </script>\n",
              "  </div>\n",
              "\n",
              "\n",
              "<div id=\"df-85c7f2e7-3639-4f51-80b3-82f2b7afb42d\">\n",
              "  <button class=\"colab-df-quickchart\" onclick=\"quickchart('df-85c7f2e7-3639-4f51-80b3-82f2b7afb42d')\"\n",
              "            title=\"Suggest charts\"\n",
              "            style=\"display:none;\">\n",
              "\n",
              "<svg xmlns=\"http://www.w3.org/2000/svg\" height=\"24px\"viewBox=\"0 0 24 24\"\n",
              "     width=\"24px\">\n",
              "    <g>\n",
              "        <path d=\"M19 3H5c-1.1 0-2 .9-2 2v14c0 1.1.9 2 2 2h14c1.1 0 2-.9 2-2V5c0-1.1-.9-2-2-2zM9 17H7v-7h2v7zm4 0h-2V7h2v10zm4 0h-2v-4h2v4z\"/>\n",
              "    </g>\n",
              "</svg>\n",
              "  </button>\n",
              "\n",
              "<style>\n",
              "  .colab-df-quickchart {\n",
              "      --bg-color: #E8F0FE;\n",
              "      --fill-color: #1967D2;\n",
              "      --hover-bg-color: #E2EBFA;\n",
              "      --hover-fill-color: #174EA6;\n",
              "      --disabled-fill-color: #AAA;\n",
              "      --disabled-bg-color: #DDD;\n",
              "  }\n",
              "\n",
              "  [theme=dark] .colab-df-quickchart {\n",
              "      --bg-color: #3B4455;\n",
              "      --fill-color: #D2E3FC;\n",
              "      --hover-bg-color: #434B5C;\n",
              "      --hover-fill-color: #FFFFFF;\n",
              "      --disabled-bg-color: #3B4455;\n",
              "      --disabled-fill-color: #666;\n",
              "  }\n",
              "\n",
              "  .colab-df-quickchart {\n",
              "    background-color: var(--bg-color);\n",
              "    border: none;\n",
              "    border-radius: 50%;\n",
              "    cursor: pointer;\n",
              "    display: none;\n",
              "    fill: var(--fill-color);\n",
              "    height: 32px;\n",
              "    padding: 0;\n",
              "    width: 32px;\n",
              "  }\n",
              "\n",
              "  .colab-df-quickchart:hover {\n",
              "    background-color: var(--hover-bg-color);\n",
              "    box-shadow: 0 1px 2px rgba(60, 64, 67, 0.3), 0 1px 3px 1px rgba(60, 64, 67, 0.15);\n",
              "    fill: var(--button-hover-fill-color);\n",
              "  }\n",
              "\n",
              "  .colab-df-quickchart-complete:disabled,\n",
              "  .colab-df-quickchart-complete:disabled:hover {\n",
              "    background-color: var(--disabled-bg-color);\n",
              "    fill: var(--disabled-fill-color);\n",
              "    box-shadow: none;\n",
              "  }\n",
              "\n",
              "  .colab-df-spinner {\n",
              "    border: 2px solid var(--fill-color);\n",
              "    border-color: transparent;\n",
              "    border-bottom-color: var(--fill-color);\n",
              "    animation:\n",
              "      spin 1s steps(1) infinite;\n",
              "  }\n",
              "\n",
              "  @keyframes spin {\n",
              "    0% {\n",
              "      border-color: transparent;\n",
              "      border-bottom-color: var(--fill-color);\n",
              "      border-left-color: var(--fill-color);\n",
              "    }\n",
              "    20% {\n",
              "      border-color: transparent;\n",
              "      border-left-color: var(--fill-color);\n",
              "      border-top-color: var(--fill-color);\n",
              "    }\n",
              "    30% {\n",
              "      border-color: transparent;\n",
              "      border-left-color: var(--fill-color);\n",
              "      border-top-color: var(--fill-color);\n",
              "      border-right-color: var(--fill-color);\n",
              "    }\n",
              "    40% {\n",
              "      border-color: transparent;\n",
              "      border-right-color: var(--fill-color);\n",
              "      border-top-color: var(--fill-color);\n",
              "    }\n",
              "    60% {\n",
              "      border-color: transparent;\n",
              "      border-right-color: var(--fill-color);\n",
              "    }\n",
              "    80% {\n",
              "      border-color: transparent;\n",
              "      border-right-color: var(--fill-color);\n",
              "      border-bottom-color: var(--fill-color);\n",
              "    }\n",
              "    90% {\n",
              "      border-color: transparent;\n",
              "      border-bottom-color: var(--fill-color);\n",
              "    }\n",
              "  }\n",
              "</style>\n",
              "\n",
              "  <script>\n",
              "    async function quickchart(key) {\n",
              "      const quickchartButtonEl =\n",
              "        document.querySelector('#' + key + ' button');\n",
              "      quickchartButtonEl.disabled = true;  // To prevent multiple clicks.\n",
              "      quickchartButtonEl.classList.add('colab-df-spinner');\n",
              "      try {\n",
              "        const charts = await google.colab.kernel.invokeFunction(\n",
              "            'suggestCharts', [key], {});\n",
              "      } catch (error) {\n",
              "        console.error('Error during call to suggestCharts:', error);\n",
              "      }\n",
              "      quickchartButtonEl.classList.remove('colab-df-spinner');\n",
              "      quickchartButtonEl.classList.add('colab-df-quickchart-complete');\n",
              "    }\n",
              "    (() => {\n",
              "      let quickchartButtonEl =\n",
              "        document.querySelector('#df-85c7f2e7-3639-4f51-80b3-82f2b7afb42d button');\n",
              "      quickchartButtonEl.style.display =\n",
              "        google.colab.kernel.accessAllowed ? 'block' : 'none';\n",
              "    })();\n",
              "  </script>\n",
              "</div>\n",
              "\n",
              "    </div>\n",
              "  </div>\n"
            ],
            "application/vnd.google.colaboratory.intrinsic+json": {
              "type": "dataframe",
              "variable_name": "df",
              "summary": "{\n  \"name\": \"df\",\n  \"rows\": 4000,\n  \"fields\": [\n    {\n      \"column\": \"N\",\n      \"properties\": {\n        \"dtype\": \"number\",\n        \"std\": 29,\n        \"min\": 20,\n        \"max\": 119,\n        \"num_unique_values\": 100,\n        \"samples\": [\n          85,\n          82,\n          31\n        ],\n        \"semantic_type\": \"\",\n        \"description\": \"\"\n      }\n    },\n    {\n      \"column\": \"P\",\n      \"properties\": {\n        \"dtype\": \"number\",\n        \"std\": 14,\n        \"min\": 10,\n        \"max\": 59,\n        \"num_unique_values\": 50,\n        \"samples\": [\n          10,\n          52,\n          13\n        ],\n        \"semantic_type\": \"\",\n        \"description\": \"\"\n      }\n    },\n    {\n      \"column\": \"K\",\n      \"properties\": {\n        \"dtype\": \"number\",\n        \"std\": 17,\n        \"min\": 10,\n        \"max\": 69,\n        \"num_unique_values\": 60,\n        \"samples\": [\n          24,\n          37,\n          61\n        ],\n        \"semantic_type\": \"\",\n        \"description\": \"\"\n      }\n    },\n    {\n      \"column\": \"temperature\",\n      \"properties\": {\n        \"dtype\": \"number\",\n        \"std\": 4.326299595573174,\n        \"min\": 20.00277792943164,\n        \"max\": 34.99611908387139,\n        \"num_unique_values\": 4000,\n        \"samples\": [\n          23.11204157088316,\n          31.571449834894047,\n          27.59684565554771\n        ],\n        \"semantic_type\": \"\",\n        \"description\": \"\"\n      }\n    },\n    {\n      \"column\": \"humidity\",\n      \"properties\": {\n        \"dtype\": \"number\",\n        \"std\": 14.37044577149078,\n        \"min\": 40.0059322455425,\n        \"max\": 89.99463333525247,\n        \"num_unique_values\": 4000,\n        \"samples\": [\n          83.53631533260977,\n          87.21344354453602,\n          75.77284776799083\n        ],\n        \"semantic_type\": \"\",\n        \"description\": \"\"\n      }\n    },\n    {\n      \"column\": \"ph\",\n      \"properties\": {\n        \"dtype\": \"number\",\n        \"std\": 0.5732620837822278,\n        \"min\": 5.50001859195117,\n        \"max\": 7.49938966274239,\n        \"num_unique_values\": 4000,\n        \"samples\": [\n          6.7646452918885,\n          7.079953160123601,\n          5.848776532499235\n        ],\n        \"semantic_type\": \"\",\n        \"description\": \"\"\n      }\n    },\n    {\n      \"column\": \"rainfall\",\n      \"properties\": {\n        \"dtype\": \"number\",\n        \"std\": 86.94050120591454,\n        \"min\": 100.0998903655324,\n        \"max\": 399.8554394246359,\n        \"num_unique_values\": 4000,\n        \"samples\": [\n          114.61575145472436,\n          132.63046946613298,\n          258.4443642386092\n        ],\n        \"semantic_type\": \"\",\n        \"description\": \"\"\n      }\n    },\n    {\n      \"column\": \"Crop Name\",\n      \"properties\": {\n        \"dtype\": \"category\",\n        \"num_unique_values\": 22,\n        \"samples\": [\n          \"mango\",\n          \"pomegranate\",\n          \"cotton\"\n        ],\n        \"semantic_type\": \"\",\n        \"description\": \"\"\n      }\n    },\n    {\n      \"column\": \"Yield\",\n      \"properties\": {\n        \"dtype\": \"number\",\n        \"std\": 43.503457663845936,\n        \"min\": 17.686717559973424,\n        \"max\": 256.8724574009921,\n        \"num_unique_values\": 4000,\n        \"samples\": [\n          39.27644829820132,\n          112.00988707228991,\n          187.4408600228393\n        ],\n        \"semantic_type\": \"\",\n        \"description\": \"\"\n      }\n    }\n  ]\n}"
            }
          },
          "metadata": {},
          "execution_count": 2
        }
      ]
    },
    {
      "cell_type": "code",
      "source": [
        "df.shape"
      ],
      "metadata": {
        "colab": {
          "base_uri": "https://localhost:8080/"
        },
        "id": "U1pKNkxlfYJG",
        "outputId": "851bd9f2-dfd8-44fa-bd49-c567f395f271"
      },
      "execution_count": 3,
      "outputs": [
        {
          "output_type": "execute_result",
          "data": {
            "text/plain": [
              "(4000, 9)"
            ]
          },
          "metadata": {},
          "execution_count": 3
        }
      ]
    },
    {
      "cell_type": "markdown",
      "source": [
        "## Data Pre-Processing"
      ],
      "metadata": {
        "id": "buNpGXH8fxRO"
      }
    },
    {
      "cell_type": "code",
      "source": [
        "from sklearn.model_selection import train_test_split\n",
        "from sklearn.preprocessing import StandardScaler, OneHotEncoder, PolynomialFeatures\n",
        "from sklearn.compose import ColumnTransformer\n",
        "from sklearn.pipeline import Pipeline\n",
        "from sklearn.impute import SimpleImputer\n"
      ],
      "metadata": {
        "id": "_rGtLR5AgBsp"
      },
      "execution_count": 4,
      "outputs": []
    },
    {
      "cell_type": "code",
      "source": [
        "# Handle missing values\n",
        "imputer = SimpleImputer(strategy='median')"
      ],
      "metadata": {
        "id": "g3EilTGKgFhQ"
      },
      "execution_count": 5,
      "outputs": []
    },
    {
      "cell_type": "code",
      "source": [
        "#Encode categorical variables\n",
        "encoder = OneHotEncoder(handle_unknown='ignore')"
      ],
      "metadata": {
        "id": "Y9mUIinTgNwo"
      },
      "execution_count": 6,
      "outputs": []
    },
    {
      "cell_type": "code",
      "source": [
        "X = df[['N', 'P', 'K', 'temperature', 'humidity', 'ph', 'rainfall', 'Crop Name']]\n",
        "y = df['Yield']"
      ],
      "metadata": {
        "id": "1rd4OqgggUBO"
      },
      "execution_count": 7,
      "outputs": []
    },
    {
      "cell_type": "code",
      "source": [
        "numerical_features = ['N', 'P', 'K', 'temperature', 'humidity', 'ph', 'rainfall']\n",
        "categorical_features = ['Crop Name']\n"
      ],
      "metadata": {
        "id": "28xfgeGggqx-"
      },
      "execution_count": 8,
      "outputs": []
    },
    {
      "cell_type": "code",
      "source": [
        "numerical_transformer = Pipeline(steps=[\n",
        "    ('imputer', imputer),\n",
        "    ('scaler', StandardScaler())\n",
        "])\n",
        "# Create preprocessing pipeline\n",
        "preprocessor = ColumnTransformer(\n",
        "    transformers=[\n",
        "        ('num', numerical_transformer, numerical_features),\n",
        "        ('cat', encoder, categorical_features)\n",
        "    ]\n",
        ")\n",
        "# Polynomial features\n",
        "poly = PolynomialFeatures(degree=2, include_bias=False)"
      ],
      "metadata": {
        "id": "8Hz6BZXcgzjO"
      },
      "execution_count": 9,
      "outputs": []
    },
    {
      "cell_type": "markdown",
      "source": [
        "## Training and Testing the Model and Model Evualation"
      ],
      "metadata": {
        "id": "v3AgeiGYhorP"
      }
    },
    {
      "cell_type": "code",
      "source": [
        "from sklearn.linear_model import LinearRegression\n",
        "from sklearn.tree import DecisionTreeRegressor\n",
        "from sklearn.ensemble import RandomForestRegressor\n",
        "from sklearn.svm import SVR\n",
        "from sklearn.neighbors import KNeighborsRegressor\n",
        "from sklearn.neural_network import MLPRegressor\n",
        "import xgboost as xgb\n",
        "import lightgbm as lgb\n",
        "from sklearn.metrics import r2_score, mean_squared_error, mean_absolute_error"
      ],
      "metadata": {
        "id": "RR7QPytKhneR",
        "colab": {
          "base_uri": "https://localhost:8080/"
        },
        "outputId": "31f6d7f2-12b3-4b7e-c47f-bdcd1bbaf802"
      },
      "execution_count": 10,
      "outputs": [
        {
          "output_type": "stream",
          "name": "stderr",
          "text": [
            "/usr/local/lib/python3.10/dist-packages/dask/dataframe/__init__.py:42: FutureWarning: \n",
            "Dask dataframe query planning is disabled because dask-expr is not installed.\n",
            "\n",
            "You can install it with `pip install dask[dataframe]` or `conda install dask`.\n",
            "This will raise in a future version.\n",
            "\n",
            "  warnings.warn(msg, FutureWarning)\n"
          ]
        }
      ]
    },
    {
      "cell_type": "code",
      "source": [
        "pip install dask[dataframe]"
      ],
      "metadata": {
        "colab": {
          "base_uri": "https://localhost:8080/"
        },
        "id": "JBgS6vbnh-Yf",
        "outputId": "32def767-ef13-4a55-9887-d1aa9b5b3b32"
      },
      "execution_count": 11,
      "outputs": [
        {
          "output_type": "stream",
          "name": "stdout",
          "text": [
            "Requirement already satisfied: dask[dataframe] in /usr/local/lib/python3.10/dist-packages (2024.8.0)\n",
            "Requirement already satisfied: click>=8.1 in /usr/local/lib/python3.10/dist-packages (from dask[dataframe]) (8.1.7)\n",
            "Requirement already satisfied: cloudpickle>=1.5.0 in /usr/local/lib/python3.10/dist-packages (from dask[dataframe]) (2.2.1)\n",
            "Requirement already satisfied: fsspec>=2021.09.0 in /usr/local/lib/python3.10/dist-packages (from dask[dataframe]) (2024.6.1)\n",
            "Requirement already satisfied: packaging>=20.0 in /usr/local/lib/python3.10/dist-packages (from dask[dataframe]) (24.1)\n",
            "Requirement already satisfied: partd>=1.4.0 in /usr/local/lib/python3.10/dist-packages (from dask[dataframe]) (1.4.2)\n",
            "Requirement already satisfied: pyyaml>=5.3.1 in /usr/local/lib/python3.10/dist-packages (from dask[dataframe]) (6.0.2)\n",
            "Requirement already satisfied: toolz>=0.10.0 in /usr/local/lib/python3.10/dist-packages (from dask[dataframe]) (0.12.1)\n",
            "Requirement already satisfied: importlib-metadata>=4.13.0 in /usr/local/lib/python3.10/dist-packages (from dask[dataframe]) (8.4.0)\n",
            "Requirement already satisfied: pandas>=2.0 in /usr/local/lib/python3.10/dist-packages (from dask[dataframe]) (2.2.2)\n",
            "Collecting dask-expr<1.2,>=1.1 (from dask[dataframe])\n",
            "  Downloading dask_expr-1.1.15-py3-none-any.whl.metadata (2.5 kB)\n",
            "INFO: pip is looking at multiple versions of dask-expr to determine which version is compatible with other requirements. This could take a while.\n",
            "  Downloading dask_expr-1.1.14-py3-none-any.whl.metadata (2.5 kB)\n",
            "  Downloading dask_expr-1.1.13-py3-none-any.whl.metadata (2.5 kB)\n",
            "  Downloading dask_expr-1.1.12-py3-none-any.whl.metadata (2.5 kB)\n",
            "  Downloading dask_expr-1.1.11-py3-none-any.whl.metadata (2.5 kB)\n",
            "  Downloading dask_expr-1.1.10-py3-none-any.whl.metadata (2.5 kB)\n",
            "Requirement already satisfied: pyarrow>=7.0.0 in /usr/local/lib/python3.10/dist-packages (from dask-expr<1.2,>=1.1->dask[dataframe]) (16.1.0)\n",
            "Requirement already satisfied: zipp>=0.5 in /usr/local/lib/python3.10/dist-packages (from importlib-metadata>=4.13.0->dask[dataframe]) (3.20.2)\n",
            "Requirement already satisfied: numpy>=1.22.4 in /usr/local/lib/python3.10/dist-packages (from pandas>=2.0->dask[dataframe]) (1.26.4)\n",
            "Requirement already satisfied: python-dateutil>=2.8.2 in /usr/local/lib/python3.10/dist-packages (from pandas>=2.0->dask[dataframe]) (2.8.2)\n",
            "Requirement already satisfied: pytz>=2020.1 in /usr/local/lib/python3.10/dist-packages (from pandas>=2.0->dask[dataframe]) (2024.2)\n",
            "Requirement already satisfied: tzdata>=2022.7 in /usr/local/lib/python3.10/dist-packages (from pandas>=2.0->dask[dataframe]) (2024.2)\n",
            "Requirement already satisfied: locket in /usr/local/lib/python3.10/dist-packages (from partd>=1.4.0->dask[dataframe]) (1.0.0)\n",
            "Requirement already satisfied: six>=1.5 in /usr/local/lib/python3.10/dist-packages (from python-dateutil>=2.8.2->pandas>=2.0->dask[dataframe]) (1.16.0)\n",
            "Downloading dask_expr-1.1.10-py3-none-any.whl (242 kB)\n",
            "\u001b[2K   \u001b[90m━━━━━━━━━━━━━━━━━━━━━━━━━━━━━━━━━━━━━━━━\u001b[0m \u001b[32m242.2/242.2 kB\u001b[0m \u001b[31m11.2 MB/s\u001b[0m eta \u001b[36m0:00:00\u001b[0m\n",
            "\u001b[?25hInstalling collected packages: dask-expr\n",
            "Successfully installed dask-expr-1.1.10\n"
          ]
        }
      ]
    },
    {
      "cell_type": "code",
      "source": [
        "models = {\n",
        "    'Linear Regression': LinearRegression(),\n",
        "    'Decision Tree': DecisionTreeRegressor(),\n",
        "    'Random Forest': RandomForestRegressor(),\n",
        "    'SVR': SVR(),\n",
        "    'KNN': KNeighborsRegressor(),\n",
        "    'MLP': MLPRegressor(max_iter=1000),\n",
        "    'XGBoost': xgb.XGBRegressor(),\n",
        "    'LightGBM': lgb.LGBMRegressor()\n",
        "}"
      ],
      "metadata": {
        "id": "ZqopdZYeiEg8"
      },
      "execution_count": 12,
      "outputs": []
    },
    {
      "cell_type": "code",
      "source": [
        "model_pipelines = {}\n",
        "performance_metrics = {}\n",
        "X_train, X_test, y_train, y_test = train_test_split(X, y, test_size=0.2, random_state=42)"
      ],
      "metadata": {
        "id": "fO6f_rWSixsA"
      },
      "execution_count": 13,
      "outputs": []
    },
    {
      "cell_type": "code",
      "source": [
        "for name, model in models.items():\n",
        "    pipeline = Pipeline(steps=[\n",
        "        ('preprocessor', preprocessor),\n",
        "        ('poly', poly),\n",
        "        ('model', model)\n",
        "    ])\n",
        "\n",
        "    pipeline.fit(X_train, y_train)\n",
        "\n",
        "    y_pred = pipeline.predict(X_test)\n",
        "    r2 = r2_score(y_test, y_pred)\n",
        "    mse = mean_squared_error(y_test, y_pred)\n",
        "    rmse = np.sqrt(mse)\n",
        "    mae = mean_absolute_error(y_test, y_pred)\n",
        "\n",
        "    model_pipelines[name] = pipeline\n",
        "    performance_metrics[name] = {\n",
        "        'R² Score': r2,\n",
        "        'MSE': mse,\n",
        "        'RMSE': rmse,\n",
        "        'MAE': mae\n",
        "    }\n",
        "print(\"Model Performance:\")\n",
        "for name, metrics in performance_metrics.items():\n",
        "    print(f\"{name}:\")\n",
        "    for metric_name, metric_value in metrics.items():\n",
        "        print(f\"  {metric_name} = {metric_value:.4f}\")\n",
        "    print()"
      ],
      "metadata": {
        "colab": {
          "base_uri": "https://localhost:8080/"
        },
        "id": "wCcAj3EPrPhh",
        "outputId": "3587a370-fd9e-4b1f-d40d-0d5d59bfdbc5"
      },
      "execution_count": 14,
      "outputs": [
        {
          "output_type": "stream",
          "name": "stderr",
          "text": [
            "/usr/local/lib/python3.10/dist-packages/sklearn/neural_network/_multilayer_perceptron.py:690: ConvergenceWarning: Stochastic Optimizer: Maximum iterations (1000) reached and the optimization hasn't converged yet.\n",
            "  warnings.warn(\n"
          ]
        },
        {
          "output_type": "stream",
          "name": "stdout",
          "text": [
            "[LightGBM] [Info] Auto-choosing col-wise multi-threading, the overhead of testing was 0.002045 seconds.\n",
            "You can set `force_col_wise=true` to remove the overhead.\n",
            "[LightGBM] [Info] Total Bins 14776\n",
            "[LightGBM] [Info] Number of data points in the train set: 3200, number of used features: 233\n",
            "[LightGBM] [Info] Start training from score 122.276061\n",
            "Model Performance:\n",
            "Linear Regression:\n",
            "  R² Score = 0.9456\n",
            "  MSE = 105.0241\n",
            "  RMSE = 10.2481\n",
            "  MAE = 8.4104\n",
            "\n",
            "Decision Tree:\n",
            "  R² Score = 0.8442\n",
            "  MSE = 300.8464\n",
            "  RMSE = 17.3449\n",
            "  MAE = 13.8754\n",
            "\n",
            "Random Forest:\n",
            "  R² Score = 0.9289\n",
            "  MSE = 137.3313\n",
            "  RMSE = 11.7188\n",
            "  MAE = 9.4651\n",
            "\n",
            "SVR:\n",
            "  R² Score = 0.6451\n",
            "  MSE = 685.4751\n",
            "  RMSE = 26.1816\n",
            "  MAE = 19.3397\n",
            "\n",
            "KNN:\n",
            "  R² Score = 0.8472\n",
            "  MSE = 295.1848\n",
            "  RMSE = 17.1809\n",
            "  MAE = 13.5796\n",
            "\n",
            "MLP:\n",
            "  R² Score = 0.8689\n",
            "  MSE = 253.1812\n",
            "  RMSE = 15.9117\n",
            "  MAE = 12.5712\n",
            "\n",
            "XGBoost:\n",
            "  R² Score = 0.9260\n",
            "  MSE = 142.9195\n",
            "  RMSE = 11.9549\n",
            "  MAE = 9.6797\n",
            "\n",
            "LightGBM:\n",
            "  R² Score = 0.9361\n",
            "  MSE = 123.3454\n",
            "  RMSE = 11.1061\n",
            "  MAE = 9.1111\n",
            "\n"
          ]
        }
      ]
    },
    {
      "cell_type": "markdown",
      "source": [
        "## Best Model"
      ],
      "metadata": {
        "id": "2qcovxHlmYMP"
      }
    },
    {
      "cell_type": "code",
      "source": [
        "best_model_name = max(performance_metrics, key=lambda k: performance_metrics[k]['R² Score'])\n",
        "best_model_pipeline = model_pipelines[best_model_name]\n",
        "\n",
        "\n",
        "print(f\"Best Model: {best_model_name}\")\n",
        "print(\"Performance Metrics:\")\n",
        "for metric_name, metric_value in performance_metrics[best_model_name].items():\n",
        "    print(f\"  {metric_name} = {metric_value:.4f}\")"
      ],
      "metadata": {
        "colab": {
          "base_uri": "https://localhost:8080/"
        },
        "id": "xf2-Qyt0kjw_",
        "outputId": "1e4a10ee-ddc9-4e27-8755-6fac16d6166d"
      },
      "execution_count": 15,
      "outputs": [
        {
          "output_type": "stream",
          "name": "stdout",
          "text": [
            "Best Model: Linear Regression\n",
            "Performance Metrics:\n",
            "  R² Score = 0.9456\n",
            "  MSE = 105.0241\n",
            "  RMSE = 10.2481\n",
            "  MAE = 8.4104\n"
          ]
        }
      ]
    },
    {
      "cell_type": "markdown",
      "source": [
        "## User Input"
      ],
      "metadata": {
        "id": "ssso2mzbmw4V"
      }
    },
    {
      "cell_type": "code",
      "source": [
        "def get_user_input():\n",
        "\n",
        "    temperature = float(input(\"Enter the temperature (°C): \"))\n",
        "    humidity = float(input(\"Enter the humidity (%): \"))\n",
        "    ph = float(input(\"Enter the pH level of the soil: \"))\n",
        "    rainfall = float(input(\"Enter the rainfall (mm): \"))\n",
        "    crop_name = input(\"Enter the crop name: \")\n",
        "    N = float(input(\"Enter the current Nitrogen (N) level: \"))\n",
        "    P = float(input(\"Enter the current Phosphorus (P) level: \"))\n",
        "    K = float(input(\"Enter the current Potassium (K) level: \"))\n",
        "\n",
        "    current_conditions = {\n",
        "        'temperature': temperature,\n",
        "        'humidity': humidity,\n",
        "        'ph': ph,\n",
        "        'rainfall': rainfall,\n",
        "        'Crop Name': crop_name,\n",
        "        'N': N,\n",
        "        'P': P,\n",
        "        'K': K\n",
        "    }\n",
        "\n",
        "    return current_conditions"
      ],
      "metadata": {
        "id": "7mZSNbnmlLx3"
      },
      "execution_count": 16,
      "outputs": []
    },
    {
      "cell_type": "markdown",
      "source": [
        "## Prediction and Recommendation"
      ],
      "metadata": {
        "id": "BUQ2eM8im_4_"
      }
    },
    {
      "cell_type": "code",
      "source": [
        "def predict_and_recommend(pipeline, current_conditions):\n",
        "\n",
        "    # Convert current conditions dictionary to DataFrame\n",
        "    conditions_df = pd.DataFrame([current_conditions])\n",
        "\n",
        "    predicted_nutrients = pipeline.predict(conditions_df)\n",
        "\n",
        "    # Check if predictions are in the expected shape\n",
        "    if predicted_nutrients.ndim == 1:\n",
        "\n",
        "        # If only one value is returned (e.g., for single output regression)\n",
        "        predicted_nutrients = np.expand_dims(predicted_nutrients, axis=0)\n",
        "\n",
        "    current_nutrients = np.array([current_conditions['N'], current_conditions['P'], current_conditions['K']])\n",
        "\n",
        "    additional_amounts = predicted_nutrients - current_nutrients\n",
        "\n",
        "    # Ensure additional_amounts is a 2D array\n",
        "    if additional_amounts.ndim == 1:\n",
        "        additional_amounts = np.expand_dims(additional_amounts, axis=0)\n",
        "\n",
        "    extra_N, extra_P, extra_K = additional_amounts[0]\n",
        "\n",
        "    result = {}\n",
        "    suggestions = []\n",
        "\n",
        "\n",
        "    if extra_N > 0 and extra_P > 0 and extra_K > 0:\n",
        "        suggestions.append(f\"\\nRecommendations: \\nAdd {extra_N:.2f} kg/ha of N, {extra_P:.2f} kg/ha of P, and {extra_K:.2f} kg/ha of K.\\nSuggestions:\\nUse kelp or seaweed-based fertilizers to supply potassium and trace minerals.\\nApply well-aged compost to provide a balanced mix of nutrients and improve soil fertility.\\nUse organic manure (e.g., cow, chicken, or horse manure) to supplement N, P, and K levels naturally. \")\n",
        "    elif extra_N > 0 and extra_P > 0:\n",
        "        suggestions.append(f\"\\nRecommendations: \\nAdd {extra_N:.2f} kg/ha of N and {extra_P:.2f} kg/ha of P.\\nSuggestions:\\nUse wood ash to increase potassium levels and improve soil structure. Apply it sparingly to avoid excessive alkalinity.\\nIncorporate composted organic materials to gradually supply both phosphorus and potassium, along with other essential nutrients.\\nApply kelp meal or seaweed extracts to provide a natural source of potassium and trace minerals.\")\n",
        "    elif extra_N > 0 and extra_K > 0:\n",
        "        suggestions.append(f\"\\nRecommendations: \\nAdd {extra_N:.2f} kg/ha of N and {extra_K:.2f} kg/ha of K.\\nSuggestions:\\nUse compost or well-rotted manure, which provides a balanced supply of nutrients, including nitrogen and potassium.\\nAdd natural sources of potassium, such as wood ash, seaweed, or potassium-rich rock minerals (e.g., greensand).\\nRotate crops to include nitrogen-fixing plants and those that benefit from increased potassium to balance nutrient levels over time.\")\n",
        "    elif extra_P > 0 and extra_K > 0:\n",
        "        suggestions.append(f\"\\nRecommendations: \\nAdd {extra_P:.2f} kg/ha of P and {extra_K:.2f} kg/ha of K.\\nSuggestions:\\nBury or compost banana peels, which are an excellent source of potassium, to naturally boost potassium levels in the soil.\\nUse well-composted animal manure, which provides both phosphorus and potassium, along with other essential nutrients.\\nApply rock phosphate for a natural and long-lasting phosphorus source that enhances soil fertility over time.\")\n",
        "    elif extra_N > 0:\n",
        "        suggestions.append(f\"\\nRecommendations: \\nAdd {extra_N:.2f} kg/ha of N.\\nSuggestions:\\nPlant legumes like beans, peas, or clover that have symbiotic bacteria in their roots to fix atmospheric nitrogen into the soil.\\nSow green manures (e.g., alfalfa, hairy vetch) to add nitrogen to the soil when tilled back in.\\nUse organic nitrogen-rich fertilizers like blood meal, fish emulsion, or feather meal to increase soil nitrogen levels.\")\n",
        "    elif extra_P > 0:\n",
        "        suggestions.append(f\"\\nRecommendations: \\nAdd {extra_P:.2f} kg/ha of P.\\nSuggestions:\\nAdd bone meal, a slow-release organic fertilizer rich in phosphorus, to improve P levels in the soil.\\nUse rock phosphate, a natural mineral that provides a slow, steady release of phosphorus.\\nIncorporate well-decomposed compost and animal manure, which can gradually increase phosphorus content.\\n\")\n",
        "    elif extra_K > 0:\n",
        "        suggestions.append(f\"\\nRecommendations: \\nAdd {extra_K:.2f} kg/ha of K.\\nSuggestions:\\nApply wood ash, as it is rich in potassium and acts as a quick-release organic source.\\nIncorporate compost made from banana peels, which are naturally high in potassium.\\nUse seaweed-based fertilizers or extracts that provide potassium along with trace minerals.\")\n",
        "\n",
        "\n",
        "    if extra_N <= 0:\n",
        "        suggestions.append(\"\\nRecommendations: \\nN is more than expected or no extra N needed.\\nSuggestions:\\nApply high-carbon materials like straw to balance nitrogen.\\nIntroduce nitrogen-fixing cover crops like legumes (e.g., clover, alfalfa, or beans) in crop rotation.\\nReduce irrigation or manage it more carefully to prevent excess nitrogen from leaching deeper into the soil.\")\n",
        "    if extra_P <= 0:\n",
        "        suggestions.append(\"\\nRecommendations: \\nP is more than expected or no extra P needed.\\nSuggestions:\\nUse manures low in phosphorus and balance nutrients with compost.\\n Incorporate compost, leaf litter, or well-rotted manure to balance nutrients and encourage microbial activity that helps absorb excess phosphorus.\\n Plant species like lupine or beans that help bind phosphorus in the soil, making it less available to other plants.\")\n",
        "    if extra_K <= 0:\n",
        "        suggestions.append(\"\\nRecommendations: \\nK is more than expected or no extra K needed.\\nSuggestions:\\nIncorporate compost or well-rotted manure to balance soil nutrients and improve soil structure.\\nApply organic mulch, such as straw or leaves, to reduce potassium leaching and improve soil health.\\nPlant cover crops like clover or legumes to help absorb excess potassium and improve soil nutrient balance.\")\n",
        "\n",
        "    result['suggestions'] = suggestions\n",
        "\n",
        "    return result\n",
        "\n",
        "if __name__ == \"__main__\":\n",
        "    current_conditions = get_user_input()\n",
        "    recommendations = predict_and_recommend(pipeline, current_conditions)\n",
        "    print(\"\\n\".join(recommendations['suggestions']))"
      ],
      "metadata": {
        "colab": {
          "base_uri": "https://localhost:8080/"
        },
        "id": "sccS2-d8lba4",
        "outputId": "9cd8e612-5cdf-4ff0-d85a-5eaa7eec3a49"
      },
      "execution_count": 17,
      "outputs": [
        {
          "output_type": "stream",
          "name": "stdout",
          "text": [
            "Enter the temperature (°C): 35\n",
            "Enter the humidity (%): 7\n",
            "Enter the pH level of the soil: 6\n",
            "Enter the rainfall (mm): 4\n",
            "Enter the crop name: 3\n",
            "Enter the current Nitrogen (N) level: 3\n",
            "Enter the current Phosphorus (P) level: 3\n",
            "Enter the current Potassium (K) level: 3\n",
            "\n",
            "Recommendations: \n",
            "Add 31.33 kg/ha of N, 31.33 kg/ha of P, and 31.33 kg/ha of K.\n",
            "Suggestions:\n",
            "Use kelp or seaweed-based fertilizers to supply potassium and trace minerals.\n",
            "Apply well-aged compost to provide a balanced mix of nutrients and improve soil fertility.\n",
            "Use organic manure (e.g., cow, chicken, or horse manure) to supplement N, P, and K levels naturally. \n"
          ]
        }
      ]
    },
    {
      "cell_type": "markdown",
      "source": [
        "## Saving .pkl files"
      ],
      "metadata": {
        "id": "lWlovsziNcK0"
      }
    },
    {
      "cell_type": "code",
      "source": [
        "import joblib\n",
        "\n",
        "# Save the best model pipeline\n",
        "joblib.dump(best_model_pipeline, 'best_model_pipeline.joblib')\n",
        "\n",
        "# Save the preprocessor and polynomial features separately if needed\n",
        "joblib.dump(preprocessor, 'preprocessor.joblib')\n",
        "joblib.dump(poly, 'polynomial_features.joblib')\n"
      ],
      "metadata": {
        "colab": {
          "base_uri": "https://localhost:8080/"
        },
        "id": "68mSKsnaA_e0",
        "outputId": "717ec281-a417-4c4a-dfe4-e5db54ad6121"
      },
      "execution_count": 18,
      "outputs": [
        {
          "output_type": "execute_result",
          "data": {
            "text/plain": [
              "['polynomial_features.joblib']"
            ]
          },
          "metadata": {},
          "execution_count": 18
        }
      ]
    }
  ]
}